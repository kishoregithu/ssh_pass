{
 "cells": [
  {
   "cell_type": "code",
   "execution_count": 6,
   "id": "07431431-df8e-45ba-90b7-198aac9915c0",
   "metadata": {},
   "outputs": [],
   "source": [
    "import requests\n",
    "with open('t.jpg',\"w\") as imgf:\n",
    "    imgf.write(requests.get('https://picsum.photos/seed/picsum/1028/700.jpg').text)"
   ]
  },
  {
   "cell_type": "code",
   "execution_count": 14,
   "id": "d85e111c-98e8-4c4e-aacb-74179ae7fba2",
   "metadata": {},
   "outputs": [
    {
     "name": "stdout",
     "output_type": "stream",
     "text": [
      "0.434037446975708 s\n"
     ]
    }
   ],
   "source": [
    "import os\n",
    "import requests\n",
    "from uuid import uuid4\n",
    "import time\n",
    "from urllib import parse\n",
    "\n",
    "url = 'https://picsum.photos/1028/700'\n",
    "\n",
    "\n",
    "def save_post_image():\n",
    "    start = time.time()\n",
    "    response = requests.get(url)\n",
    "    extension = os.path.splitext(parse.urlsplit(response.url).path)[-1]\n",
    "    image_name = f'{uuid4()}{extension}'\n",
    "    path = f'images/{image_name}'\n",
    "    with open(path, mode='wb') as f:\n",
    "        f.write(response.content)\n",
    "\n",
    "    elapsed = time.time() - start\n",
    "    print(f'{elapsed} s')\n",
    "    \n",
    "save_post_image()"
   ]
  },
  {
   "cell_type": "code",
   "execution_count": null,
   "id": "4061a256-c546-4fd9-a370-16d504b4d287",
   "metadata": {},
   "outputs": [],
   "source": []
  },
  {
   "cell_type": "code",
   "execution_count": null,
   "id": "ffc38c67-215f-4185-8c10-d9af589a9254",
   "metadata": {},
   "outputs": [],
   "source": []
  }
 ],
 "metadata": {
  "kernelspec": {
   "display_name": "Python 3 (ipykernel)",
   "language": "python",
   "name": "python3"
  },
  "language_info": {
   "codemirror_mode": {
    "name": "ipython",
    "version": 3
   },
   "file_extension": ".py",
   "mimetype": "text/x-python",
   "name": "python",
   "nbconvert_exporter": "python",
   "pygments_lexer": "ipython3",
   "version": "3.7.12"
  }
 },
 "nbformat": 4,
 "nbformat_minor": 5
}
